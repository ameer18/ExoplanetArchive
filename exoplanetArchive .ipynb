{
 "cells": [
  {
   "cell_type": "code",
   "execution_count": 29,
   "id": "77efd43e",
   "metadata": {},
   "outputs": [],
   "source": [
    "import pandas as pd"
   ]
  },
  {
   "cell_type": "code",
   "execution_count": 30,
   "id": "4c408e3c",
   "metadata": {},
   "outputs": [],
   "source": [
    "data = {\n",
    "    'planet_name': ['Proxima Centauri b', 'TRAPPIST-1e', 'Kepler-186f', 'kepler 22b', 'kepler 452b', 'Gliese 667Cc'],\n",
    "    'host_star': ['Proxima Centauri', 'TRAPPIST-1', 'Kepler-186', 'kepler 22', 'kepler 452', 'Gliese 667c'],\n",
    "    'orbital_period_days': [11.2, 6.1, 129.9, 290, 385, 28],\n",
    "    'radius_earth': [1.17, 0.92, 1.11, 2.4, 1.6, 4.5],\n",
    "    'temperature_fahrenheit': [39, 37, 56, 22.22, 77, 39.6],\n",
    "    # Add more attributes as needed\n",
    "\n",
    "}"
   ]
  },
  {
   "cell_type": "code",
   "execution_count": 31,
   "id": "596f0964",
   "metadata": {},
   "outputs": [],
   "source": [
    "exo_df = pd.DataFrame(data)"
   ]
  },
  {
   "cell_type": "code",
   "execution_count": 32,
   "id": "45cd06d4",
   "metadata": {},
   "outputs": [],
   "source": [
    "styled_exo_df = exo_df.style.background_gradient(cmap='Blues')"
   ]
  },
  {
   "cell_type": "code",
   "execution_count": 33,
   "id": "b559e8d1",
   "metadata": {},
   "outputs": [
    {
     "data": {
      "text/html": [
       "<style type=\"text/css\">\n",
       "#T_d2193_row0_col2 {\n",
       "  background-color: #f5f9fe;\n",
       "  color: #000000;\n",
       "}\n",
       "#T_d2193_row0_col3 {\n",
       "  background-color: #eaf2fb;\n",
       "  color: #000000;\n",
       "}\n",
       "#T_d2193_row0_col4 {\n",
       "  background-color: #b4d3e9;\n",
       "  color: #000000;\n",
       "}\n",
       "#T_d2193_row1_col2, #T_d2193_row1_col3, #T_d2193_row3_col4 {\n",
       "  background-color: #f7fbff;\n",
       "  color: #000000;\n",
       "}\n",
       "#T_d2193_row1_col4 {\n",
       "  background-color: #bfd8ed;\n",
       "  color: #000000;\n",
       "}\n",
       "#T_d2193_row2_col2 {\n",
       "  background-color: #aed1e7;\n",
       "  color: #000000;\n",
       "}\n",
       "#T_d2193_row2_col3 {\n",
       "  background-color: #edf4fc;\n",
       "  color: #000000;\n",
       "}\n",
       "#T_d2193_row2_col4 {\n",
       "  background-color: #4594c7;\n",
       "  color: #f1f1f1;\n",
       "}\n",
       "#T_d2193_row3_col2 {\n",
       "  background-color: #2171b5;\n",
       "  color: #f1f1f1;\n",
       "}\n",
       "#T_d2193_row3_col3 {\n",
       "  background-color: #8fc2de;\n",
       "  color: #000000;\n",
       "}\n",
       "#T_d2193_row4_col2, #T_d2193_row4_col4, #T_d2193_row5_col3 {\n",
       "  background-color: #08306b;\n",
       "  color: #f1f1f1;\n",
       "}\n",
       "#T_d2193_row4_col3 {\n",
       "  background-color: #d2e3f3;\n",
       "  color: #000000;\n",
       "}\n",
       "#T_d2193_row5_col2 {\n",
       "  background-color: #ecf4fb;\n",
       "  color: #000000;\n",
       "}\n",
       "#T_d2193_row5_col4 {\n",
       "  background-color: #b0d2e7;\n",
       "  color: #000000;\n",
       "}\n",
       "</style>\n",
       "<table id=\"T_d2193\">\n",
       "  <thead>\n",
       "    <tr>\n",
       "      <th class=\"blank level0\" >&nbsp;</th>\n",
       "      <th id=\"T_d2193_level0_col0\" class=\"col_heading level0 col0\" >planet_name</th>\n",
       "      <th id=\"T_d2193_level0_col1\" class=\"col_heading level0 col1\" >host_star</th>\n",
       "      <th id=\"T_d2193_level0_col2\" class=\"col_heading level0 col2\" >orbital_period_days</th>\n",
       "      <th id=\"T_d2193_level0_col3\" class=\"col_heading level0 col3\" >radius_earth</th>\n",
       "      <th id=\"T_d2193_level0_col4\" class=\"col_heading level0 col4\" >temperature_fahrenheit</th>\n",
       "    </tr>\n",
       "  </thead>\n",
       "  <tbody>\n",
       "    <tr>\n",
       "      <th id=\"T_d2193_level0_row0\" class=\"row_heading level0 row0\" >0</th>\n",
       "      <td id=\"T_d2193_row0_col0\" class=\"data row0 col0\" >Proxima Centauri b</td>\n",
       "      <td id=\"T_d2193_row0_col1\" class=\"data row0 col1\" >Proxima Centauri</td>\n",
       "      <td id=\"T_d2193_row0_col2\" class=\"data row0 col2\" >11.200000</td>\n",
       "      <td id=\"T_d2193_row0_col3\" class=\"data row0 col3\" >1.170000</td>\n",
       "      <td id=\"T_d2193_row0_col4\" class=\"data row0 col4\" >39.000000</td>\n",
       "    </tr>\n",
       "    <tr>\n",
       "      <th id=\"T_d2193_level0_row1\" class=\"row_heading level0 row1\" >1</th>\n",
       "      <td id=\"T_d2193_row1_col0\" class=\"data row1 col0\" >TRAPPIST-1e</td>\n",
       "      <td id=\"T_d2193_row1_col1\" class=\"data row1 col1\" >TRAPPIST-1</td>\n",
       "      <td id=\"T_d2193_row1_col2\" class=\"data row1 col2\" >6.100000</td>\n",
       "      <td id=\"T_d2193_row1_col3\" class=\"data row1 col3\" >0.920000</td>\n",
       "      <td id=\"T_d2193_row1_col4\" class=\"data row1 col4\" >37.000000</td>\n",
       "    </tr>\n",
       "    <tr>\n",
       "      <th id=\"T_d2193_level0_row2\" class=\"row_heading level0 row2\" >2</th>\n",
       "      <td id=\"T_d2193_row2_col0\" class=\"data row2 col0\" >Kepler-186f</td>\n",
       "      <td id=\"T_d2193_row2_col1\" class=\"data row2 col1\" >Kepler-186</td>\n",
       "      <td id=\"T_d2193_row2_col2\" class=\"data row2 col2\" >129.900000</td>\n",
       "      <td id=\"T_d2193_row2_col3\" class=\"data row2 col3\" >1.110000</td>\n",
       "      <td id=\"T_d2193_row2_col4\" class=\"data row2 col4\" >56.000000</td>\n",
       "    </tr>\n",
       "    <tr>\n",
       "      <th id=\"T_d2193_level0_row3\" class=\"row_heading level0 row3\" >3</th>\n",
       "      <td id=\"T_d2193_row3_col0\" class=\"data row3 col0\" >kepler 22b</td>\n",
       "      <td id=\"T_d2193_row3_col1\" class=\"data row3 col1\" >kepler 22</td>\n",
       "      <td id=\"T_d2193_row3_col2\" class=\"data row3 col2\" >290.000000</td>\n",
       "      <td id=\"T_d2193_row3_col3\" class=\"data row3 col3\" >2.400000</td>\n",
       "      <td id=\"T_d2193_row3_col4\" class=\"data row3 col4\" >22.220000</td>\n",
       "    </tr>\n",
       "    <tr>\n",
       "      <th id=\"T_d2193_level0_row4\" class=\"row_heading level0 row4\" >4</th>\n",
       "      <td id=\"T_d2193_row4_col0\" class=\"data row4 col0\" >kepler 452b</td>\n",
       "      <td id=\"T_d2193_row4_col1\" class=\"data row4 col1\" >kepler 452</td>\n",
       "      <td id=\"T_d2193_row4_col2\" class=\"data row4 col2\" >385.000000</td>\n",
       "      <td id=\"T_d2193_row4_col3\" class=\"data row4 col3\" >1.600000</td>\n",
       "      <td id=\"T_d2193_row4_col4\" class=\"data row4 col4\" >77.000000</td>\n",
       "    </tr>\n",
       "    <tr>\n",
       "      <th id=\"T_d2193_level0_row5\" class=\"row_heading level0 row5\" >5</th>\n",
       "      <td id=\"T_d2193_row5_col0\" class=\"data row5 col0\" >Gliese 667Cc</td>\n",
       "      <td id=\"T_d2193_row5_col1\" class=\"data row5 col1\" >Gliese 667c</td>\n",
       "      <td id=\"T_d2193_row5_col2\" class=\"data row5 col2\" >28.000000</td>\n",
       "      <td id=\"T_d2193_row5_col3\" class=\"data row5 col3\" >4.500000</td>\n",
       "      <td id=\"T_d2193_row5_col4\" class=\"data row5 col4\" >39.600000</td>\n",
       "    </tr>\n",
       "  </tbody>\n",
       "</table>\n"
      ],
      "text/plain": [
       "<pandas.io.formats.style.Styler at 0x11a8665c0>"
      ]
     },
     "execution_count": 33,
     "metadata": {},
     "output_type": "execute_result"
    }
   ],
   "source": [
    "styled_exo_df"
   ]
  },
  {
   "cell_type": "code",
   "execution_count": null,
   "id": "3549f645",
   "metadata": {},
   "outputs": [],
   "source": []
  }
 ],
 "metadata": {
  "kernelspec": {
   "display_name": "Python 3 (ipykernel)",
   "language": "python",
   "name": "python3"
  },
  "language_info": {
   "codemirror_mode": {
    "name": "ipython",
    "version": 3
   },
   "file_extension": ".py",
   "mimetype": "text/x-python",
   "name": "python",
   "nbconvert_exporter": "python",
   "pygments_lexer": "ipython3",
   "version": "3.10.9"
  }
 },
 "nbformat": 4,
 "nbformat_minor": 5
}
